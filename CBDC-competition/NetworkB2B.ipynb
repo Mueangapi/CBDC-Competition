{
 "cells": [
  {
   "cell_type": "code",
   "execution_count": 2,
   "id": "081b73ff-0032-4591-b5ed-7a094a860c88",
   "metadata": {},
   "outputs": [],
   "source": [
    "import networkx as nx\n",
    "from pyvis.network import Network\n",
    "import community as community_louvain\n",
    "import pandas as pd\n",
    "import random"
   ]
  },
  {
   "cell_type": "code",
   "execution_count": 2,
   "id": "4876db94-ec6d-4095-8d31-3788b5784b5c",
   "metadata": {},
   "outputs": [],
   "source": [
    "tickers = [\n",
    "    \"24CS\",\n",
    "    \"2S\",\n",
    "    \"3K-BAT\",\n",
    "    \"7UP\",\n",
    "    \"A\",\n",
    "    \"A5\",\n",
    "    \"AAI\",\n",
    "    \"AAV\",\n",
    "    \"ABM\",\n",
    "    \"ACAP\",\n",
    "    \"ACC\",\n",
    "    \"ACE\",\n",
    "    \"ACG\",\n",
    "    \"ADB\",\n",
    "    \"ADD\",\n",
    "    \"ADVANC\",\n",
    "    \"AEONTS\",\n",
    "    \"AF\",\n",
    "    \"AFC\",\n",
    "    \"AGE\",\n",
    "    \"AH\",\n",
    "    \"AHC\",\n",
    "    \"AI\",\n",
    "    \"AIE\",\n",
    "    \"AIMCG\",\n",
    "    \"AIMIRT\",\n",
    "    \"AIRA\",\n",
    "    \"AIT\",\n",
    "    \"AJ\",\n",
    "    \"AJA\",\n",
    "    \"AKP\",\n",
    "    \"AKR\",\n",
    "    \"AKS\",\n",
    "    \"ALL\",\n",
    "    \"ALLA\",\n",
    "    \"ALLY\",\n",
    "    \"ALPHAX\",\n",
    "    \"ALT\",\n",
    "    \"ALUCON\",\n",
    "    \"AMA\",\n",
    "    \"AMANAH\",\n",
    "    \"AMARC\",\n",
    "    \"AMARIN\",\n",
    "    \"AMATA\",\n",
    "    \"AMATAR\",\n",
    "    \"AMATAV\",\n",
    "    \"AMC\",\n",
    "    \"AMR\",\n",
    "    \"ANAN\",\n",
    "    \"AOT\",\n",
    "    \"AP\",\n",
    "    \"APCO\",\n",
    "    \"APCS\",\n",
    "    \"APEX\",\n",
    "    \"APP\",\n",
    "    \"APURE\",\n",
    "    \"AQUA\",\n",
    "    \"ARIN\",\n",
    "    \"ARIP\",\n",
    "    \"ARROW\",\n",
    "    \"AS\",\n",
    "    \"ASAP\",\n",
    "    \"ASEFA\",\n",
    "    \"ASIA\",\n",
    "    \"ASIAN\",\n",
    "    \"ASIMAR\",\n",
    "    \"ASK\",\n",
    "    \"ASN\",\n",
    "    \"ASP\",\n",
    "    \"ASW\",\n",
    "    \"ATP30\",\n",
    "    \"AU\",\n",
    "    \"AUCT\",\n",
    "    \"AURA\",\n",
    "    \"AWC\",\n",
    "    \"AYUD\",\n",
    "    \"B\",\n",
    "    \"B-WORK\",\n",
    "    \"B52\",\n",
    "    \"BA\",\n",
    "    \"BAFS\",\n",
    "    \"BAM\",\n",
    "    \"BANPU\",\n",
    "    \"BAREIT\",\n",
    "    \"BAY\",\n",
    "    \"BBGI\",\n",
    "    \"BBIK\",\n",
    "    \"BBL\",\n",
    "    \"BC\",\n",
    "    \"BCH\",\n",
    "    \"BCP\",\n",
    "    \"BCPG\",\n",
    "    \"BCT\",\n",
    "    \"BDMS\",\n",
    "    \"BE8\",\n",
    "    \"BEAUTY\",\n",
    "    \"BEC\",\n",
    "    \"BEM\",\n",
    "    \"BEYOND\",\n",
    "    \"BGC\"\n",
    "]\n"
   ]
  },
  {
   "cell_type": "code",
   "execution_count": 3,
   "id": "88a5164f-d3db-4340-ab99-71a710d4c252",
   "metadata": {},
   "outputs": [],
   "source": [
    "output = []\n",
    "output_2 = []\n",
    "value = []\n",
    "for i in tickers:\n",
    "    x = random.choice(tickers)\n",
    "    y = random.choice(tickers)\n",
    "    output.append(x)\n",
    "    output_2.append(y)\n",
    "    values = float(random.randint(1,100))\n",
    "    value.append(values)"
   ]
  },
  {
   "cell_type": "code",
   "execution_count": 4,
   "id": "0efdc19e-a25b-4df1-92a3-519566317596",
   "metadata": {},
   "outputs": [],
   "source": [
    "edges = [(item1, item2, {'weight':value}) for item1, item2, value in zip(output, output_2, value)]"
   ]
  },
  {
   "cell_type": "code",
   "execution_count": 5,
   "id": "ef30d1ce-1933-4d35-99ed-3d6aee7b711f",
   "metadata": {},
   "outputs": [
    {
     "data": {
      "text/plain": [
       "[('AIMIRT', 'AKR', {'weight': 53.0}),\n",
       " ('ASIAN', 'APEX', {'weight': 3.0}),\n",
       " ('AHC', 'AMA', {'weight': 64.0}),\n",
       " ('AIT', 'AMANAH', {'weight': 25.0}),\n",
       " ('ALLY', 'BEAUTY', {'weight': 82.0}),\n",
       " ('APCS', 'AMR', {'weight': 24.0}),\n",
       " ('ADVANC', 'ANAN', {'weight': 8.0}),\n",
       " ('BA', 'BAREIT', {'weight': 92.0}),\n",
       " ('AIRA', 'AMARC', {'weight': 48.0}),\n",
       " ('BAFS', 'ASEFA', {'weight': 83.0}),\n",
       " ('AOT', 'ALPHAX', {'weight': 99.0}),\n",
       " ('APP', 'AIE', {'weight': 2.0}),\n",
       " ('ANAN', 'BBGI', {'weight': 75.0}),\n",
       " ('AURA', 'ASK', {'weight': 69.0}),\n",
       " ('ACG', 'BBGI', {'weight': 39.0}),\n",
       " ('AAV', 'ALL', {'weight': 58.0}),\n",
       " ('AURA', 'ASIA', {'weight': 44.0}),\n",
       " ('ALT', 'ACE', {'weight': 99.0}),\n",
       " ('BAM', 'ARIN', {'weight': 68.0}),\n",
       " ('AWC', 'BDMS', {'weight': 29.0}),\n",
       " ('BC', 'AMARIN', {'weight': 49.0}),\n",
       " ('AOT', 'BANPU', {'weight': 100.0}),\n",
       " ('ATP30', 'BCP', {'weight': 33.0}),\n",
       " ('AU', 'AMANAH', {'weight': 56.0}),\n",
       " ('AI', 'ASK', {'weight': 45.0}),\n",
       " ('AU', 'ASEFA', {'weight': 20.0}),\n",
       " ('AAV', 'BE8', {'weight': 50.0}),\n",
       " ('ASW', 'ASW', {'weight': 92.0}),\n",
       " ('BBL', 'BA', {'weight': 97.0}),\n",
       " ('BEYOND', 'BCH', {'weight': 42.0}),\n",
       " ('ASW', 'AI', {'weight': 77.0}),\n",
       " ('ACC', 'AKR', {'weight': 36.0}),\n",
       " ('AKS', 'AMATAR', {'weight': 42.0}),\n",
       " ('BEYOND', 'AMATA', {'weight': 90.0}),\n",
       " ('AS', '3K-BAT', {'weight': 56.0}),\n",
       " ('AUCT', 'BE8', {'weight': 61.0}),\n",
       " ('AIMIRT', 'ABM', {'weight': 95.0}),\n",
       " ('AKR', 'BAFS', {'weight': 15.0}),\n",
       " ('AMC', 'ASIMAR', {'weight': 98.0}),\n",
       " ('ALT', 'APCS', {'weight': 89.0}),\n",
       " ('AF', 'AURA', {'weight': 53.0}),\n",
       " ('ASIAN', 'BCPG', {'weight': 15.0}),\n",
       " ('AMARIN', 'ALLY', {'weight': 74.0}),\n",
       " ('ARIP', 'AQUA', {'weight': 61.0}),\n",
       " ('2S', 'AKP', {'weight': 54.0}),\n",
       " ('ASW', 'AIMCG', {'weight': 37.0}),\n",
       " ('ACAP', '24CS', {'weight': 70.0}),\n",
       " ('AJ', 'AMARC', {'weight': 91.0}),\n",
       " ('ASAP', 'AIMCG', {'weight': 46.0}),\n",
       " ('BDMS', 'ARIN', {'weight': 10.0}),\n",
       " ('AMA', 'APCO', {'weight': 100.0}),\n",
       " ('BAM', 'AMATA', {'weight': 77.0}),\n",
       " ('BAM', '24CS', {'weight': 70.0}),\n",
       " ('ASW', 'BEAUTY', {'weight': 24.0}),\n",
       " ('ASIMAR', 'ARROW', {'weight': 39.0}),\n",
       " ('AHC', 'AIE', {'weight': 47.0}),\n",
       " ('ANAN', 'ADD', {'weight': 29.0}),\n",
       " ('AHC', 'BAFS', {'weight': 89.0}),\n",
       " ('AFC', '7UP', {'weight': 47.0}),\n",
       " ('AMARC', 'BC', {'weight': 29.0}),\n",
       " ('BCPG', 'AAI', {'weight': 81.0}),\n",
       " ('AMARC', 'AAI', {'weight': 28.0}),\n",
       " ('AMA', 'AHC', {'weight': 47.0}),\n",
       " ('ASIAN', 'AJ', {'weight': 96.0}),\n",
       " ('AAV', 'ALUCON', {'weight': 67.0}),\n",
       " ('AKS', 'AKR', {'weight': 86.0}),\n",
       " ('BC', 'ADD', {'weight': 55.0}),\n",
       " ('BDMS', 'BANPU', {'weight': 38.0}),\n",
       " ('ATP30', 'ARIN', {'weight': 55.0}),\n",
       " ('ARROW', 'AGE', {'weight': 21.0}),\n",
       " ('ASW', 'APCO', {'weight': 31.0}),\n",
       " ('ASK', 'B', {'weight': 17.0}),\n",
       " ('APURE', 'APCO', {'weight': 35.0}),\n",
       " ('AI', 'AURA', {'weight': 98.0}),\n",
       " ('ASIMAR', 'BEYOND', {'weight': 91.0}),\n",
       " ('BBL', 'AKR', {'weight': 7.0}),\n",
       " ('ALUCON', 'AP', {'weight': 29.0}),\n",
       " ('APURE', 'BA', {'weight': 82.0}),\n",
       " ('AMATAR', 'ARIP', {'weight': 48.0}),\n",
       " ('AMARIN', 'BBGI', {'weight': 67.0}),\n",
       " ('ALUCON', 'ALL', {'weight': 82.0}),\n",
       " ('ADVANC', 'BAY', {'weight': 56.0}),\n",
       " ('AFC', 'ADB', {'weight': 35.0}),\n",
       " ('AJ', 'AAI', {'weight': 38.0}),\n",
       " ('AMATAR', 'ASEFA', {'weight': 21.0}),\n",
       " ('7UP', 'AWC', {'weight': 60.0}),\n",
       " ('ARIN', 'BGC', {'weight': 35.0}),\n",
       " ('BCP', 'BC', {'weight': 64.0}),\n",
       " ('AAV', 'ASK', {'weight': 63.0}),\n",
       " ('ASAP', 'AKS', {'weight': 85.0}),\n",
       " ('AMARC', 'APEX', {'weight': 13.0}),\n",
       " ('ACE', '7UP', {'weight': 37.0}),\n",
       " ('BEAUTY', 'ADVANC', {'weight': 21.0}),\n",
       " ('BEC', 'ALUCON', {'weight': 53.0}),\n",
       " ('AJ', 'AMARC', {'weight': 71.0}),\n",
       " ('AMATA', 'ASIMAR', {'weight': 84.0}),\n",
       " ('BEYOND', 'AKR', {'weight': 37.0}),\n",
       " ('AGE', 'BCH', {'weight': 81.0}),\n",
       " ('AKP', 'ALLY', {'weight': 19.0}),\n",
       " ('APURE', 'ASN', {'weight': 50.0})]"
      ]
     },
     "execution_count": 5,
     "metadata": {},
     "output_type": "execute_result"
    }
   ],
   "source": [
    "edges"
   ]
  },
  {
   "cell_type": "code",
   "execution_count": 6,
   "id": "767183bb-9a0f-4bfc-bd17-ff48a2f5ebfd",
   "metadata": {},
   "outputs": [],
   "source": [
    "G = nx.Graph()\n",
    "\n",
    "G.add_nodes_from(output)\n",
    "G.add_nodes_from(output_2)\n",
    "G.add_edges_from(edges)"
   ]
  },
  {
   "cell_type": "code",
   "execution_count": 8,
   "id": "2c445145-213e-4105-9766-ea885f3eb59d",
   "metadata": {},
   "outputs": [
    {
     "name": "stdout",
     "output_type": "stream",
     "text": [
      "Warning: When  cdn_resources is 'local' jupyter notebook has issues displaying graphics on chrome/safari. Use cdn_resources='in_line' or cdn_resources='remote' if you have issues viewing graphics in a notebook.\n",
      "StocksRelation.html\n"
     ]
    },
    {
     "data": {
      "text/html": [
       "\n",
       "        <iframe\n",
       "            width=\"1400px\"\n",
       "            height=\"700px\"\n",
       "            src=\"StocksRelation.html\"\n",
       "            frameborder=\"0\"\n",
       "            allowfullscreen\n",
       "            \n",
       "        ></iframe>\n",
       "        "
      ],
      "text/plain": [
       "<IPython.lib.display.IFrame at 0x1b15d996260>"
      ]
     },
     "execution_count": 8,
     "metadata": {},
     "output_type": "execute_result"
    }
   ],
   "source": [
    "degree_dict = nx.degree_centrality(G)\n",
    "betweenness_dict = nx.betweenness_centrality(G)\n",
    "closeness_dict = nx.closeness_centrality(G)\n",
    "node_degrees = dict(G.degree())\n",
    "communities = community_louvain.best_partition(G)\n",
    "nx.set_node_attributes(G, communities, 'group')\n",
    "#visual\n",
    "com_net= Network(notebook = True, width=\"1400px\", height=\"700px\",bgcolor='#222222',font_color='white')\n",
    "com_net.from_nx(G)\n",
    "com_net.show('StocksRelation.html')\n"
   ]
  },
  {
   "cell_type": "code",
   "execution_count": 11,
   "id": "3858ce65-c078-482c-8dc0-856e71895168",
   "metadata": {},
   "outputs": [],
   "source": [
    "nx.write_gml(G, \"C:/Users/tonad/python/GraphgGenAi/gml\")"
   ]
  },
  {
   "cell_type": "code",
   "execution_count": 3,
   "id": "77fa6909-77e2-48df-8365-bff0b63b980e",
   "metadata": {},
   "outputs": [],
   "source": [
    "G = nx.read_gml(\"gml\")"
   ]
  },
  {
   "cell_type": "code",
   "execution_count": 10,
   "id": "12d6a0fb-61c2-4afc-b82d-4ede3b3a1978",
   "metadata": {},
   "outputs": [
    {
     "name": "stdout",
     "output_type": "stream",
     "text": [
      "Warning: When  cdn_resources is 'local' jupyter notebook has issues displaying graphics on chrome/safari. Use cdn_resources='in_line' or cdn_resources='remote' if you have issues viewing graphics in a notebook.\n",
      "StocksRelation4.html\n"
     ]
    },
    {
     "data": {
      "text/html": [
       "\n",
       "        <iframe\n",
       "            width=\"1400px\"\n",
       "            height=\"700px\"\n",
       "            src=\"StocksRelation4.html\"\n",
       "            frameborder=\"0\"\n",
       "            allowfullscreen\n",
       "            \n",
       "        ></iframe>\n",
       "        "
      ],
      "text/plain": [
       "<IPython.lib.display.IFrame at 0x1401224e800>"
      ]
     },
     "execution_count": 10,
     "metadata": {},
     "output_type": "execute_result"
    }
   ],
   "source": [
    "com_net= Network(notebook = True, width=\"1400px\", height=\"700px\",bgcolor='#222222',font_color='white')\n",
    "com_net.from_nx(G)\n",
    "com_net.show('StocksRelation4.html')"
   ]
  },
  {
   "cell_type": "code",
   "execution_count": 9,
   "id": "03fcf27c-ed52-402f-be85-3df3fb6dfc37",
   "metadata": {},
   "outputs": [],
   "source": [
    "for node_id in G.nodes:\n",
    "    if node_id in ['KTB','SCB','KBANK']:\n",
    "        G.nodes[node_id][\"size\"] = random.randint(100,200)\n",
    "    else : G.nodes[node_id][\"size\"] =random.randint(15, 25)\n",
    "    "
   ]
  },
  {
   "cell_type": "code",
   "execution_count": 4,
   "id": "7e700e20-8fe3-460e-ab90-5c0e6cf4f4f3",
   "metadata": {},
   "outputs": [],
   "source": [
    "G = nx.relabel_nodes(G, {'BDMS': 'KTB','ASW':\"SCB\",'ATP30':'KBANK'})"
   ]
  },
  {
   "cell_type": "code",
   "execution_count": null,
   "id": "9279a73d-c56b-4dd7-9fe2-5c4fbe640d5d",
   "metadata": {},
   "outputs": [],
   "source": []
  }
 ],
 "metadata": {
  "kernelspec": {
   "display_name": "Python 3 (ipykernel)",
   "language": "python",
   "name": "python3"
  },
  "language_info": {
   "codemirror_mode": {
    "name": "ipython",
    "version": 3
   },
   "file_extension": ".py",
   "mimetype": "text/x-python",
   "name": "python",
   "nbconvert_exporter": "python",
   "pygments_lexer": "ipython3",
   "version": "3.10.9"
  }
 },
 "nbformat": 4,
 "nbformat_minor": 5
}
