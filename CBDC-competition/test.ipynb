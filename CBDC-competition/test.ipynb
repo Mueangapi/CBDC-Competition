{
 "cells": [
  {
   "cell_type": "code",
   "execution_count": 1,
   "id": "f5a09f79-f8b0-416c-b436-130c2e5f69c4",
   "metadata": {
    "canvas": {
     "comments": [],
     "componentType": "CodeCell",
     "copiedOriginId": null,
     "diskcache": false,
     "headerColor": "transparent",
     "id": "00ca0db5-2e69-45ea-b3e3-9c3497deab8e",
     "isComponent": false,
     "name": "",
     "parents": []
    }
   },
   "outputs": [],
   "source": [
    "import networkx as nx\n",
    "from decimal import Decimal\n",
    "from datetime import datetime\n",
    "import matplotlib.pyplot as plt\n",
    "from pyvis.network import Network\n",
    "import community as community_louvain"
   ]
  },
  {
   "cell_type": "code",
   "execution_count": 66,
   "id": "39e25fb2-6d76-41e1-8e72-70787a7dfd8b",
   "metadata": {
    "canvas": {
     "comments": [],
     "componentType": "CodeCell",
     "copiedOriginId": null,
     "diskcache": false,
     "headerColor": "transparent",
     "id": "cb8fe64a-cad8-4cdf-8af0-c4847ec4fc38",
     "isComponent": false,
     "name": "",
     "parents": []
    },
    "tags": []
   },
   "outputs": [],
   "source": [
    "data = [\n",
    "    (1, 2, 'Apisit', 'Ponnapus', Decimal('10.00'), datetime(2023, 8, 7, 0, 0)),\n",
    "    (3, 1, 'Apiwat', 'Apisit', Decimal('10.00'), datetime(2023, 9, 7, 11, 12, 16, 566964)),\n",
    "    (1, 2, 'Apisit', 'Ponnapus', Decimal('10.00'), datetime(2023, 8, 7, 11, 12, 16, 566964)),\n",
    "    (2, 3, 'Ponnapus', 'Apiwat', Decimal('15.00'), datetime(2023, 8, 7, 11, 12, 16, 566964)),\n",
    "    (3, 4, 'Apiwat', 'Natthapon', Decimal('20.00'), datetime(2023, 8, 7, 11, 12, 16, 566964)),\n",
    "    (4, 5, 'Natthapon', 'Nitchanan', Decimal('25.00'), datetime(2023, 8, 7, 11, 12, 16, 566964)),\n",
    "    (6, 7, 'Nitchanan', 'Parani', Decimal('30.00'), datetime(2023, 8, 7, 11, 12, 16, 566964)),\n",
    "    (7, 1, 'Parani', 'Apisit', Decimal('35.00'), datetime(2023, 8, 7, 11, 12, 16, 566964)),\n",
    "    (1, 3, 'Apisit', 'Apiwat', Decimal('51.00'), datetime(2023, 8, 1, 11, 12, 16, 566964)),\n",
    "    (3, 1, 'Apiwat', 'Apisit', Decimal('5.00'), datetime(2023, 8, 4, 11, 12, 16, 566964))\n",
    "]"
   ]
  },
  {
   "cell_type": "code",
   "execution_count": 67,
   "id": "ccbef2b7-7da0-4bbd-abff-142ec7f107a7",
   "metadata": {
    "canvas": {
     "comments": [],
     "componentType": "CodeCell",
     "copiedOriginId": null,
     "diskcache": false,
     "headerColor": "transparent",
     "id": "91fa948e-10cd-4727-b927-8ef10b86d62b",
     "isComponent": false,
     "name": "",
     "parents": []
    }
   },
   "outputs": [],
   "source": [
    "G = nx.Graph()\n",
    "\n",
    "# Parse data and add nodes/edges to the graph\n",
    "for row in data:\n",
    "    sender_id, receiver_id, sender_name, receiver_name, value, _ = row\n",
    "    \n",
    "    # Convert value to float\n",
    "    value = float(value)\n",
    "    \n",
    "    # Add nodes and edges to the graph\n",
    "    G.add_node(sender_name, id=sender_id)\n",
    "    G.add_node(receiver_name, id=receiver_id)\n",
    "    G.add_edge(sender_name, receiver_name, weight=value,value=value)"
   ]
  },
  {
   "cell_type": "code",
   "execution_count": 68,
   "id": "b0eaec90-96b9-42bd-8ce4-7332a4a02395",
   "metadata": {
    "canvas": {
     "comments": [],
     "componentType": "CodeCell",
     "copiedOriginId": null,
     "diskcache": false,
     "headerColor": "transparent",
     "id": "a62855cb-3dc9-486b-a415-f810db9c67dc",
     "isComponent": false,
     "name": "",
     "parents": []
    }
   },
   "outputs": [],
   "source": [
    "degree_dict = nx.degree_centrality(G)\n",
    "betweenness_dict = nx.betweenness_centrality(G)\n",
    "closeness_dict = nx.closeness_centrality(G)"
   ]
  },
  {
   "cell_type": "code",
   "execution_count": 69,
   "id": "8d887337-7f01-4235-8316-38918ebb71c8",
   "metadata": {
    "canvas": {
     "comments": [],
     "componentType": "CodeCell",
     "copiedOriginId": null,
     "diskcache": false,
     "headerColor": "transparent",
     "id": "1826ef05-a34a-419d-9aee-8e9e2cfdfbca",
     "isComponent": false,
     "name": "",
     "parents": []
    }
   },
   "outputs": [],
   "source": [
    "# Save centrality measures\n",
    "nx.set_node_attributes(G, degree_dict, 'degree_centrality')\n",
    "nx.set_node_attributes(G, betweenness_dict, 'betweenness_centrality')\n",
    "nx.set_node_attributes(G, closeness_dict, 'closeness_centrality')"
   ]
  },
  {
   "cell_type": "code",
   "execution_count": 70,
   "id": "30406274-4507-41a0-8579-64d845fbca98",
   "metadata": {
    "canvas": {
     "comments": [],
     "componentType": "CodeCell",
     "copiedOriginId": null,
     "diskcache": false,
     "headerColor": "transparent",
     "id": "234f29d1-8b9e-4630-8ab0-296431cbf49d",
     "isComponent": false,
     "name": "",
     "parents": []
    }
   },
   "outputs": [],
   "source": [
    "communities = community_louvain.best_partition(G)\n",
    "nx.set_node_attributes(G, communities, 'group')"
   ]
  },
  {
   "cell_type": "code",
   "execution_count": 71,
   "id": "757a0b72-e5db-4219-96e2-4cbef2fe2ef0",
   "metadata": {
    "canvas": {
     "comments": [],
     "componentType": "CodeCell",
     "copiedOriginId": null,
     "diskcache": false,
     "headerColor": "transparent",
     "id": "51c2a1d3-b1a5-4dd0-9a2c-10d2b83e8f96",
     "isComponent": false,
     "name": "",
     "parents": []
    }
   },
   "outputs": [
    {
     "name": "stdout",
     "output_type": "stream",
     "text": [
      "Warning: When  cdn_resources is 'local' jupyter notebook has issues displaying graphics on chrome/safari. Use cdn_resources='in_line' or cdn_resources='remote' if you have issues viewing graphics in a notebook.\n",
      "visual.html\n"
     ]
    },
    {
     "data": {
      "text/html": [
       "\n",
       "        <iframe\n",
       "            width=\"1000px\"\n",
       "            height=\"700px\"\n",
       "            src=\"visual.html\"\n",
       "            frameborder=\"0\"\n",
       "            allowfullscreen\n",
       "            \n",
       "        ></iframe>\n",
       "        "
      ],
      "text/plain": [
       "<IPython.lib.display.IFrame at 0x21c9d2a6680>"
      ]
     },
     "execution_count": 71,
     "metadata": {},
     "output_type": "execute_result"
    }
   ],
   "source": [
    "com_net = Network(notebook = True, width=\"1000px\", height=\"700px\", bgcolor='#222222', font_color='white')\n",
    "com_net.from_nx(G)\n",
    "com_net.show('visual.html')"
   ]
  },
  {
   "cell_type": "code",
   "execution_count": null,
   "id": "ce756dd9-0ede-4234-8f72-866645303677",
   "metadata": {
    "canvas": {
     "comments": [],
     "componentType": "CodeCell",
     "copiedOriginId": null,
     "diskcache": false,
     "headerColor": "transparent",
     "id": "4a157814-204b-4c21-9483-a8a8a9e42595",
     "isComponent": false,
     "name": "",
     "parents": []
    }
   },
   "outputs": [],
   "source": []
  }
 ],
 "metadata": {
  "canvas": {
   "colorPalette": [
    "inherit",
    "inherit",
    "inherit",
    "inherit",
    "inherit",
    "inherit",
    "inherit",
    "inherit",
    "inherit",
    "inherit"
   ],
   "parameters": [],
   "version": "1.0"
  },
  "kernelspec": {
   "display_name": "Python 3 (ipykernel)",
   "language": "python",
   "name": "python3"
  },
  "language_info": {
   "codemirror_mode": {
    "name": "ipython",
    "version": 3
   },
   "file_extension": ".py",
   "mimetype": "text/x-python",
   "name": "python",
   "nbconvert_exporter": "python",
   "pygments_lexer": "ipython3",
   "version": "3.10.9"
  }
 },
 "nbformat": 4,
 "nbformat_minor": 5
}
